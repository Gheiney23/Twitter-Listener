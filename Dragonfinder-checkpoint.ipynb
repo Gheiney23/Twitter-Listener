{
 "cells": [
  {
   "cell_type": "code",
   "execution_count": null,
   "metadata": {},
   "outputs": [],
   "source": [
    "import json\n",
    "import tweepy\n",
    "\n",
    "# Creating listener cLass\n",
    "class MyStreamListener(tweepy.StreamListener):\n",
    "    def __init__(self, api):\n",
    "        self.api = api\n",
    "        self.me = api.me()\n",
    "\n",
    "    def on_status(self, tweet):\n",
    "        print(f'{tweet.user.name}:{tweet.text}')\n",
    "\n",
    "    def on_error(self, status):\n",
    "        print('Error Detected')\n",
    "\n",
    "# Creating Oauth access to Twitter API\n",
    "auth = tweepy.OAuthHandler( 'Key', 'Secret')\n",
    "auth.set_access_token('Key', 'Secret')\n",
    "\n",
    "api = tweepy.API(auth, wait_on_rate_limit=True,\n",
    "                 wait_on_rate_limit_notify=True)\n",
    "\n",
    "# Connecting to Twitter API\n",
    "tweets_listener = MyStreamListener(api)\n",
    "\n",
    "#Creating the stream\n",
    "stream = tweepy.Stream(api.auth, tweets_listener)\n",
    "\n",
    "# Using the key words to return information while in english\n",
    "stream.filter(track=['List of keywords to search'], languages=['en'])"
   ]
  },
  {
   "cell_type": "code",
   "execution_count": null,
   "metadata": {},
   "outputs": [],
   "source": []
  }
 ],
 "metadata": {
  "kernelspec": {
   "display_name": "Python 3",
   "language": "python",
   "name": "python3"
  },
  "language_info": {
   "codemirror_mode": {
    "name": "ipython",
    "version": 3
   },
   "file_extension": ".py",
   "mimetype": "text/x-python",
   "name": "python",
   "nbconvert_exporter": "python",
   "pygments_lexer": "ipython3",
   "version": "3.8.8"
  }
 },
 "nbformat": 4,
 "nbformat_minor": 2
}
